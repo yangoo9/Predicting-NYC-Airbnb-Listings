{
 "cells": [
  {
   "cell_type": "code",
   "execution_count": 4,
   "metadata": {
    "_cell_guid": "b1076dfc-b9ad-4769-8c92-a6c4dae69d19",
    "_uuid": "8f2839f25d086af736a60e9eeb907d3b93b6e0e5",
    "execution": {
     "iopub.execute_input": "2023-03-23T20:50:57.119573Z",
     "iopub.status.busy": "2023-03-23T20:50:57.119111Z",
     "iopub.status.idle": "2023-03-23T20:50:59.227168Z",
     "shell.execute_reply": "2023-03-23T20:50:59.225705Z",
     "shell.execute_reply.started": "2023-03-23T20:50:57.119540Z"
    }
   },
   "outputs": [
    {
     "name": "stdout",
     "output_type": "stream",
     "text": [
      "Total row and column in the dataset : (41533, 75)\n"
     ]
    }
   ],
   "source": [
    "import pandas as pd\n",
    "import numpy as np\n",
    "import matplotlib.pyplot as plt\n",
    "import seaborn as sns\n",
    "import random\n",
    "import xgboost as xgb\n",
    "from sklearn.preprocessing import StandardScaler\n",
    "from sklearn.model_selection import train_test_split\n",
    "from sklearn.cluster import KMeans\n",
    "from scipy.spatial import distance\n",
    "from sklearn.metrics import confusion_matrix\n",
    "from imblearn.over_sampling import SMOTE\n",
    "from sklearn.ensemble import RandomForestRegressor\n",
    "from sklearn.linear_model import LinearRegression\n",
    "\n",
    "\n",
    "# load the data\n",
    "df_listing = pd.read_csv('../dataset/listings.csv', low_memory=False)\n",
    "print(\"Total row and column in the dataset :\",df_listing.shape)\n"
   ]
  },
  {
   "cell_type": "markdown",
   "metadata": {},
   "source": [
    "# **Preprocessing and data cleaning**\n",
    "\n",
    "    •Importing data and installing required packages.\n",
    "    \n",
    "    •Find missing data and drop unnecessary columns for analysis.\n",
    "    \n",
    "    •Data imputation process\n"
   ]
  },
  {
   "cell_type": "code",
   "execution_count": 5,
   "metadata": {
    "execution": {
     "iopub.execute_input": "2023-03-23T20:50:59.229935Z",
     "iopub.status.busy": "2023-03-23T20:50:59.229121Z",
     "iopub.status.idle": "2023-03-23T20:50:59.322676Z",
     "shell.execute_reply": "2023-03-23T20:50:59.321663Z",
     "shell.execute_reply.started": "2023-03-23T20:50:59.229897Z"
    }
   },
   "outputs": [
    {
     "name": "stdout",
     "output_type": "stream",
     "text": [
      "Percentage of missing values by column:\n",
      "neighborhood_overview           42.0\n",
      "host_location                   18.6\n",
      "host_about                      44.1\n",
      "host_response_time              32.9\n",
      "host_response_rate              32.9\n",
      "host_acceptance_rate            29.4\n",
      "host_neighbourhood              19.7\n",
      "neighbourhood                   42.0\n",
      "bathrooms                      100.0\n",
      "calendar_updated               100.0\n",
      "first_review                    22.6\n",
      "last_review                     22.6\n",
      "review_scores_rating            22.6\n",
      "review_scores_accuracy          23.7\n",
      "review_scores_cleanliness       23.7\n",
      "review_scores_checkin           23.7\n",
      "review_scores_communication     23.7\n",
      "review_scores_location          23.7\n",
      "review_scores_value             23.7\n",
      "license                        100.0\n",
      "reviews_per_month               22.6\n",
      "dtype: float64\n"
     ]
    }
   ],
   "source": [
    "# Calculate the percentage of missing values in each column\n",
    "percent_missing = df_listing.isnull().sum() * 100 / len(df_listing)\n",
    "\n",
    "# Select columns with missing values greater than or equal to 10%\n",
    "missing_above_10pct = percent_missing[percent_missing >= 10]\n",
    "\n",
    "# Print the percentage of missing values in selected columns\n",
    "print(\"Percentage of missing values by column:\")\n",
    "print(round(missing_above_10pct,1))"
   ]
  },
  {
   "cell_type": "code",
   "execution_count": 6,
   "metadata": {
    "execution": {
     "iopub.execute_input": "2023-03-23T20:50:59.325060Z",
     "iopub.status.busy": "2023-03-23T20:50:59.324324Z",
     "iopub.status.idle": "2023-03-23T20:50:59.359259Z",
     "shell.execute_reply": "2023-03-23T20:50:59.357701Z",
     "shell.execute_reply.started": "2023-03-23T20:50:59.325023Z"
    }
   },
   "outputs": [],
   "source": [
    "#Remove unnecessary columns and rows that are missing values \n",
    "df_listing.drop(columns = ['source','description','listing_url','host_thumbnail_url','picture_url','host_url','host_thumbnail_url','host_picture_url',\n",
    "                           'last_scraped','scrape_id','license','calendar_updated', 'host_has_profile_pic','host_name',\n",
    "                           'host_since','host_identity_verified','host_acceptance_rate','bathrooms_text','first_review','host_about',\n",
    "                           'minimum_minimum_nights','maximum_minimum_nights','minimum_maximum_nights','maximum_maximum_nights',\n",
    "                           'minimum_nights_avg_ntm','maximum_nights_avg_ntm','neighbourhood','neighbourhood_cleansed','host_response_time',\n",
    "                           'host_listings_count','host_total_listings_count','host_verifications','calendar_last_scraped','number_of_reviews_ltm',\n",
    "                           'number_of_reviews_l30d','host_id','last_review','calculated_host_listings_count',\n",
    "                           'calculated_host_listings_count_entire_homes','calculated_host_listings_count_private_rooms','calculated_host_listings_count_shared_rooms'\n",
    "                              ], axis=1, inplace=True)"
   ]
  },
  {
   "cell_type": "code",
   "execution_count": 7,
   "metadata": {
    "execution": {
     "iopub.execute_input": "2023-03-23T20:50:59.363321Z",
     "iopub.status.busy": "2023-03-23T20:50:59.362711Z",
     "iopub.status.idle": "2023-03-23T20:50:59.395335Z",
     "shell.execute_reply": "2023-03-23T20:50:59.394330Z",
     "shell.execute_reply.started": "2023-03-23T20:50:59.363284Z"
    }
   },
   "outputs": [],
   "source": [
    "## Imputation is a process of replacing missing values in a dataset\n",
    "\n",
    "df_listing.fillna({'bathrooms':1, 'bedrooms':1, 'beds':1}, inplace=True)\n",
    "\n",
    "df_listing.fillna({'last_review':0, 'review_scores_rating':0, 'review_scores_accuracy':0, 'review_scores_cleanliness':0, \n",
    "        'review_scores_checkin':0, 'review_scores_communication':0, 'review_scores_location':0,\n",
    "        'review_scores_value':0,'reviews_per_month':0,'neighborhood_overview':'NA','description':'NA',\n",
    "        'host_is_superhost':'f','name':'NA','host_location':'New York, NY','host_response_rate':'N/A',\n",
    "        'host_neighbourhood':'NA','host_listings_count':0,\n",
    "                  }, inplace=True)"
   ]
  },
  {
   "cell_type": "code",
   "execution_count": 8,
   "metadata": {
    "execution": {
     "iopub.execute_input": "2023-03-23T20:50:59.397199Z",
     "iopub.status.busy": "2023-03-23T20:50:59.396631Z",
     "iopub.status.idle": "2023-03-23T20:50:59.436879Z",
     "shell.execute_reply": "2023-03-23T20:50:59.435558Z",
     "shell.execute_reply.started": "2023-03-23T20:50:59.397163Z"
    }
   },
   "outputs": [
    {
     "name": "stdout",
     "output_type": "stream",
     "text": [
      "No missing values.\n"
     ]
    }
   ],
   "source": [
    "# Check missing values in the dataframe\n",
    "\n",
    "missing_cols = df_listing.columns[df_listing.isna().sum() > 0]\n",
    "if missing_cols.empty:\n",
    "    print(\"No missing values.\")\n",
    "else:\n",
    "    missing_data = df_listing.loc[:,missing_cols]\n",
    "    print(\"Missing values\\n\",missing_data.isna().sum())\n"
   ]
  },
  {
   "cell_type": "code",
   "execution_count": 9,
   "metadata": {
    "execution": {
     "iopub.execute_input": "2023-03-23T20:50:59.439474Z",
     "iopub.status.busy": "2023-03-23T20:50:59.438654Z",
     "iopub.status.idle": "2023-03-23T20:50:59.450897Z",
     "shell.execute_reply": "2023-03-23T20:50:59.449316Z",
     "shell.execute_reply.started": "2023-03-23T20:50:59.439416Z"
    }
   },
   "outputs": [
    {
     "data": {
      "text/plain": [
       "id                                int64\n",
       "name                             object\n",
       "neighborhood_overview            object\n",
       "host_location                    object\n",
       "host_response_rate               object\n",
       "host_is_superhost                object\n",
       "host_neighbourhood               object\n",
       "neighbourhood_group_cleansed     object\n",
       "latitude                        float64\n",
       "longitude                       float64\n",
       "property_type                    object\n",
       "room_type                        object\n",
       "accommodates                      int64\n",
       "bathrooms                       float64\n",
       "bedrooms                        float64\n",
       "beds                            float64\n",
       "amenities                        object\n",
       "price                            object\n",
       "minimum_nights                    int64\n",
       "maximum_nights                    int64\n",
       "has_availability                 object\n",
       "availability_30                   int64\n",
       "availability_60                   int64\n",
       "availability_90                   int64\n",
       "availability_365                  int64\n",
       "number_of_reviews                 int64\n",
       "review_scores_rating            float64\n",
       "review_scores_accuracy          float64\n",
       "review_scores_cleanliness       float64\n",
       "review_scores_checkin           float64\n",
       "review_scores_communication     float64\n",
       "review_scores_location          float64\n",
       "review_scores_value             float64\n",
       "instant_bookable                 object\n",
       "reviews_per_month               float64\n",
       "dtype: object"
      ]
     },
     "execution_count": 9,
     "metadata": {},
     "output_type": "execute_result"
    }
   ],
   "source": [
    "#check datatypes for cleaned data\n",
    "df_listing.dtypes"
   ]
  },
  {
   "cell_type": "code",
   "execution_count": 10,
   "metadata": {
    "execution": {
     "iopub.execute_input": "2023-03-23T20:50:59.454937Z",
     "iopub.status.busy": "2023-03-23T20:50:59.453233Z",
     "iopub.status.idle": "2023-03-23T20:50:59.536613Z",
     "shell.execute_reply": "2023-03-23T20:50:59.535028Z",
     "shell.execute_reply.started": "2023-03-23T20:50:59.454881Z"
    }
   },
   "outputs": [],
   "source": [
    "#converting features from \"t\" and \"f\" to 1's and 0's\n",
    "\n",
    "df_listing['host_is_superhost'] = df_listing['host_is_superhost'].apply(lambda x: 1 if x == \"t\" else 0)\n",
    "df_listing['instant_bookable'] = df_listing['instant_bookable'].apply(lambda x: 1 if x == \"t\" else 0)\n",
    "df_listing['has_availability'] = df_listing['has_availability'].apply(lambda x: 1 if x == \"t\" else 0)"
   ]
  },
  {
   "cell_type": "code",
   "execution_count": 11,
   "metadata": {
    "execution": {
     "iopub.execute_input": "2023-03-23T20:50:59.542991Z",
     "iopub.status.busy": "2023-03-23T20:50:59.542551Z",
     "iopub.status.idle": "2023-03-23T20:50:59.549347Z",
     "shell.execute_reply": "2023-03-23T20:50:59.548025Z",
     "shell.execute_reply.started": "2023-03-23T20:50:59.542953Z"
    }
   },
   "outputs": [
    {
     "name": "stdout",
     "output_type": "stream",
     "text": [
      "Total row and column in the dataset : (41533, 35)\n"
     ]
    }
   ],
   "source": [
    "# After treating data preprocessing, imputation\n",
    "print(\"Total row and column in the dataset :\",df_listing.shape)"
   ]
  },
  {
   "cell_type": "markdown",
   "metadata": {},
   "source": [
    "# **Data Exploratory and Analysis (in visualization)**\n",
    "\n",
    "•What is the average price, per night, of an Airbnb listing in NYC?\n",
    "•How does the average price of an Airbnb listing, per month, compare to the private rental market?\n",
    "\n",
    "•How many adverts are for private rooms?\n",
    "\n",
    "•How do Airbnb listing prices compare across the top 10 NYC apartments/homes?\n",
    "\n",
    "•What are the most popular neighborhoods for Airbnb rentals in NYC, and how do prices vary between these neighborhoods?\n",
    "\n",
    "•What types of properties are most commonly listed on Airbnb in NYC (e.g., apartments, houses, etc.)?\n",
    "\n",
    "•What are the most common amenities and features offered in Airbnb rentals in NYC, and how do they impact the price?\n",
    "\n",
    "•How have Airbnb prices in NYC changed over time, and what factors have contributed to these changes?\n"
   ]
  },
  {
   "cell_type": "code",
   "execution_count": 12,
   "metadata": {
    "execution": {
     "iopub.execute_input": "2023-03-23T20:50:59.551589Z",
     "iopub.status.busy": "2023-03-23T20:50:59.550695Z",
     "iopub.status.idle": "2023-03-23T20:50:59.599696Z",
     "shell.execute_reply": "2023-03-23T20:50:59.598379Z",
     "shell.execute_reply.started": "2023-03-23T20:50:59.551553Z"
    }
   },
   "outputs": [
    {
     "data": {
      "text/plain": [
       "0         175.0\n",
       "1          75.0\n",
       "2         275.0\n",
       "3          60.0\n",
       "4          68.0\n",
       "          ...  \n",
       "41528     105.0\n",
       "41529      87.0\n",
       "41530      70.0\n",
       "41531     125.0\n",
       "41532    1114.0\n",
       "Name: price, Length: 41533, dtype: float64"
      ]
     },
     "execution_count": 12,
     "metadata": {},
     "output_type": "execute_result"
    }
   ],
   "source": [
    "#Change type of price to float\n",
    "df_listing[\"price\"] = df_listing[\"price\"].map(lambda x: float(x.replace(\"$\", \"\").replace(\",\", \"\")))\n",
    "# df_listing[\"price\"] = df_listing[\"price\"].str.replace('.00','')\n",
    "# df_listing[\"price\"] = df_listing[\"price\"]\n",
    "df_listing[\"price\"]"
   ]
  },
  {
   "cell_type": "markdown",
   "metadata": {},
   "source": [
    "**Find the the correlation coefficients of price with the other variables**"
   ]
  },
  {
   "cell_type": "code",
   "execution_count": 13,
   "metadata": {
    "execution": {
     "iopub.execute_input": "2023-03-23T20:50:59.604254Z",
     "iopub.status.busy": "2023-03-23T20:50:59.603685Z",
     "iopub.status.idle": "2023-03-23T20:51:02.774009Z",
     "shell.execute_reply": "2023-03-23T20:51:02.772771Z",
     "shell.execute_reply.started": "2023-03-23T20:50:59.604205Z"
    }
   },
   "outputs": [
    {
     "data": {
      "image/png": "[encoded data removed]",
      "text/plain": [
       "<Figure size 720x576 with 2 Axes>"
      ]
     },
     "metadata": {
      "needs_background": "light"
     },
     "output_type": "display_data"
    }
   ],
   "source": [
    "# create correlation matrix\n",
    "corr_matrix = df_listing.corr().round(1)\n",
    "# plot the matrix\n",
    "plt.figure(figsize=(10,8))\n",
    "sns.heatmap(corr_matrix, annot=True, cmap='coolwarm', vmin=-1, vmax=1, center=0, square=True)\n",
    "plt.show()"
   ]
  },
  {
   "cell_type": "code",
   "execution_count": 14,
   "metadata": {
    "execution": {
     "iopub.execute_input": "2023-03-23T20:51:02.775920Z",
     "iopub.status.busy": "2023-03-23T20:51:02.775503Z",
     "iopub.status.idle": "2023-03-23T20:51:03.222921Z",
     "shell.execute_reply": "2023-03-23T20:51:03.221648Z",
     "shell.execute_reply.started": "2023-03-23T20:51:02.775886Z"
    }
   },
   "outputs": [
    {
     "data": {
      "image/png": "[encoded data removed]",
      "text/plain": [
       "<Figure size 432x288 with 1 Axes>"
      ]
     },
     "metadata": {
      "needs_background": "light"
     },
     "output_type": "display_data"
    }
   ],
   "source": [
    "corr_matrix = df_listing.corr()\n",
    "price_correlations = corr_matrix.loc['price']\n",
    "price_correlations.plot.bar()\n",
    "plt.show()\n",
    "#print(round(price_correlations,2))"
   ]
  },
  {
   "cell_type": "markdown",
   "metadata": {},
   "source": [
    "**Relationship between price and other varaibles**"
   ]
  },
  {
   "cell_type": "code",
   "execution_count": 15,
   "metadata": {
    "execution": {
     "iopub.execute_input": "2023-03-23T20:51:03.225642Z",
     "iopub.status.busy": "2023-03-23T20:51:03.225207Z",
     "iopub.status.idle": "2023-03-23T20:51:04.315172Z",
     "shell.execute_reply": "2023-03-23T20:51:04.313790Z",
     "shell.execute_reply.started": "2023-03-23T20:51:03.225604Z"
    }
   },
   "outputs": [
    {
     "name": "stdout",
     "output_type": "stream",
     "text": [
      "accommodates        0.169046\n",
      "bedrooms            0.125846\n",
      "beds                0.130223\n",
      "price               1.000000\n",
      "instant_bookable    0.048092\n",
      "Name: price, dtype: float64\n"
     ]
    },
    {
     "data": {
      "image/png": "[encoded data removed]",
      "text/plain": [
       "<Figure size 1152x288 with 4 Axes>"
      ]
     },
     "metadata": {
      "needs_background": "light"
     },
     "output_type": "display_data"
    }
   ],
   "source": [
    "# Select the numeric columns of interest that have a stronger associated with price\n",
    "num_st_cols = ['accommodates', 'bedrooms', 'beds','price', 'instant_bookable']\n",
    "df = df_listing[num_st_cols]\n",
    "\n",
    "# Create the scatter pairplot\n",
    "g = sns.pairplot(df, x_vars=['accommodates', 'bedrooms', 'beds', 'instant_bookable'], y_vars=['price'], height=4 )\n",
    "g.fig.suptitle('Relationship between accomodates, bedrooms, beds, instant_bookable vs price', y=1.2)\n",
    "\n",
    "corr_price = df_listing[num_st_cols].corr()\n",
    "print(corr_price['price'])"
   ]
  },
  {
   "cell_type": "code",
   "execution_count": 16,
   "metadata": {
    "execution": {
     "iopub.execute_input": "2023-03-23T20:51:04.317400Z",
     "iopub.status.busy": "2023-03-23T20:51:04.316942Z",
     "iopub.status.idle": "2023-03-23T20:51:05.360672Z",
     "shell.execute_reply": "2023-03-23T20:51:05.359328Z",
     "shell.execute_reply.started": "2023-03-23T20:51:04.317360Z"
    }
   },
   "outputs": [
    {
     "name": "stdout",
     "output_type": "stream",
     "text": [
      "availability_30     0.034854\n",
      "availability_60     0.038420\n",
      "price               1.000000\n",
      "availability_90     0.039698\n",
      "availability_365    0.037110\n",
      "Name: price, dtype: float64\n"
     ]
    },
    {
     "data": {
      "image/png": "[encoded data removed]",
      "text/plain": [
       "<Figure size 1152x288 with 4 Axes>"
      ]
     },
     "metadata": {
      "needs_background": "light"
     },
     "output_type": "display_data"
    }
   ],
   "source": [
    "# Select the numeric columns of interest that have a weaker associated with price\n",
    "num_we_cols = ['availability_30', 'availability_60','price', 'availability_90', \n",
    "               'availability_365']\n",
    "df = df_listing[num_we_cols]\n",
    "\n",
    "# Create the scatter pairplot\n",
    "g = sns.pairplot(df, x_vars=[ 'availability_30', 'availability_60', 'availability_90', \n",
    "               'availability_365'], y_vars=['price'], height=4 )\n",
    "g.fig.suptitle('Relationship between room availablities vs price', y=1.2)\n",
    "\n",
    "corr_price = df_listing[num_we_cols].corr()\n",
    "print(corr_price['price'])\n"
   ]
  },
  {
   "cell_type": "code",
   "execution_count": 17,
   "metadata": {
    "execution": {
     "iopub.execute_input": "2023-03-23T20:51:05.362746Z",
     "iopub.status.busy": "2023-03-23T20:51:05.362004Z",
     "iopub.status.idle": "2023-03-23T20:51:05.371583Z",
     "shell.execute_reply": "2023-03-23T20:51:05.370241Z",
     "shell.execute_reply.started": "2023-03-23T20:51:05.362701Z"
    }
   },
   "outputs": [
    {
     "name": "stdout",
     "output_type": "stream",
     "text": [
      "While average monthly AirBnb price is: $6751.84, the price of private market according to Zumper is $3100\n"
     ]
    }
   ],
   "source": [
    "#Find average price per night of AirBnb in NY\n",
    "avg_price_per_night = df_listing[\"price\"].mean()\n",
    "\n",
    "#Find average price per month of Airbnb in NY\n",
    "avg_monthly_price = round(avg_price_per_night*365/12, 2)\n",
    "\n",
    "#Conclude the comparision between monthly price of AirBnb and that of private market in NY\n",
    "print(\"While average monthly AirBnb price is: ${}, the price of private market according to Zumper is {}\".format(avg_monthly_price, \"$3100\") )"
   ]
  },
  {
   "cell_type": "code",
   "execution_count": 18,
   "metadata": {
    "execution": {
     "iopub.execute_input": "2023-03-23T20:51:05.374670Z",
     "iopub.status.busy": "2023-03-23T20:51:05.373869Z",
     "iopub.status.idle": "2023-03-23T20:51:05.397473Z",
     "shell.execute_reply": "2023-03-23T20:51:05.396150Z",
     "shell.execute_reply.started": "2023-03-23T20:51:05.374617Z"
    }
   },
   "outputs": [
    {
     "data": {
      "text/plain": [
       "Entire home/apt    23526\n",
       "Private room       17287\n",
       "Shared room          532\n",
       "Hotel room           188\n",
       "Name: room_type, dtype: int64"
      ]
     },
     "execution_count": 18,
     "metadata": {},
     "output_type": "execute_result"
    }
   ],
   "source": [
    "#Lowercase room column\n",
    "df_listing['room_type'].map(lambda x: x.lower())\n",
    "\n",
    "#Count the frequency of room types\n",
    "num_room_types = df_listing['room_type'].value_counts()\n",
    "num_room_types"
   ]
  },
  {
   "cell_type": "code",
   "execution_count": 19,
   "metadata": {
    "execution": {
     "iopub.execute_input": "2023-03-23T20:51:05.400516Z",
     "iopub.status.busy": "2023-03-23T20:51:05.399919Z",
     "iopub.status.idle": "2023-03-23T20:51:05.578716Z",
     "shell.execute_reply": "2023-03-23T20:51:05.576727Z",
     "shell.execute_reply.started": "2023-03-23T20:51:05.400463Z"
    }
   },
   "outputs": [
    {
     "data": {
      "image/png": "[encoded data removed]",
      "text/plain": [
       "<Figure size 432x432 with 1 Axes>"
      ]
     },
     "metadata": {},
     "output_type": "display_data"
    }
   ],
   "source": [
    "# Plot the pie chart\n",
    "fig, ax = plt.subplots(figsize=(6,6))\n",
    "ax.pie(num_room_types, labels=num_room_types.index, startangle=10, autopct='%1.1f%%', wedgeprops={'width':0.4})\n",
    "ax.set_aspect('equal')\n",
    "ax.set_title('Number of Room Types')\n",
    "plt.show()"
   ]
  },
  {
   "cell_type": "code",
   "execution_count": 20,
   "metadata": {
    "execution": {
     "iopub.execute_input": "2023-03-23T20:51:05.584094Z",
     "iopub.status.busy": "2023-03-23T20:51:05.582523Z",
     "iopub.status.idle": "2023-03-23T20:51:05.634097Z",
     "shell.execute_reply": "2023-03-23T20:51:05.632754Z",
     "shell.execute_reply.started": "2023-03-23T20:51:05.584016Z"
    }
   },
   "outputs": [
    {
     "data": {
      "text/plain": [
       "Entire home/apt    263.442404\n",
       "Hotel room         416.164894\n",
       "Private room       166.102042\n",
       "Shared room        135.400376\n",
       "dtype: float64"
      ]
     },
     "execution_count": 20,
     "metadata": {},
     "output_type": "execute_result"
    }
   ],
   "source": [
    "#Average price of each room types\n",
    "total_price_of_each_room_type = df_listing.groupby(['room_type']).sum()['price']\n",
    "\n",
    "price_of_each_room_type = total_price_of_each_room_type/num_room_types\n",
    "\n",
    "price_of_each_room_type\n"
   ]
  },
  {
   "cell_type": "code",
   "execution_count": 21,
   "metadata": {
    "execution": {
     "iopub.execute_input": "2023-03-23T20:51:05.636238Z",
     "iopub.status.busy": "2023-03-23T20:51:05.635722Z",
     "iopub.status.idle": "2023-03-23T20:51:05.845572Z",
     "shell.execute_reply": "2023-03-23T20:51:05.844267Z",
     "shell.execute_reply.started": "2023-03-23T20:51:05.636186Z"
    }
   },
   "outputs": [
    {
     "data": {
      "image/png": "[encoded data removed]",
      "text/plain": [
       "<Figure size 432x288 with 1 Axes>"
      ]
     },
     "metadata": {
      "needs_background": "light"
     },
     "output_type": "display_data"
    }
   ],
   "source": [
    "#barplot shows comparision between number of room and average price per night of each type\n",
    "room_types = ['Entire home/apt', 'Hotel room', 'Private room', 'Shared room']\n",
    "plt.bar(room_types, price_of_each_room_type)\n",
    "plt.title(\"Average price of each room type per night\")\n",
    "plt.show()"
   ]
  },
  {
   "cell_type": "markdown",
   "metadata": {},
   "source": [
    "3. Boroughs vs price"
   ]
  },
  {
   "cell_type": "code",
   "execution_count": 22,
   "metadata": {
    "execution": {
     "iopub.execute_input": "2023-03-23T20:51:05.847337Z",
     "iopub.status.busy": "2023-03-23T20:51:05.846988Z",
     "iopub.status.idle": "2023-03-23T20:51:05.857206Z",
     "shell.execute_reply": "2023-03-23T20:51:05.855726Z",
     "shell.execute_reply.started": "2023-03-23T20:51:05.847305Z"
    }
   },
   "outputs": [
    {
     "data": {
      "text/plain": [
       "0        Manhattan\n",
       "1        Manhattan\n",
       "2         Brooklyn\n",
       "3         Brooklyn\n",
       "4         Brooklyn\n",
       "           ...    \n",
       "41528        Bronx\n",
       "41529       Queens\n",
       "41530    Manhattan\n",
       "41531        Bronx\n",
       "41532    Manhattan\n",
       "Name: neighbourhood_group_cleansed, Length: 41533, dtype: object"
      ]
     },
     "execution_count": 22,
     "metadata": {},
     "output_type": "execute_result"
    }
   ],
   "source": [
    "df_listing['neighbourhood_group_cleansed']"
   ]
  },
  {
   "cell_type": "markdown",
   "metadata": {},
   "source": [
    "Find the most popular neighborhoods for AirBnb rentals in NYC and show how price vary between these neighborhoods"
   ]
  },
  {
   "cell_type": "markdown",
   "metadata": {},
   "source": [
    "**Analyze listing prices of AirBnb in New York**"
   ]
  },
  {
   "cell_type": "code",
   "execution_count": 23,
   "metadata": {
    "execution": {
     "iopub.execute_input": "2023-03-23T20:51:05.859596Z",
     "iopub.status.busy": "2023-03-23T20:51:05.858719Z",
     "iopub.status.idle": "2023-03-23T20:51:05.890610Z",
     "shell.execute_reply": "2023-03-23T20:51:05.889535Z",
     "shell.execute_reply.started": "2023-03-23T20:51:05.859555Z"
    }
   },
   "outputs": [
    {
     "data": {
      "text/html": [
       "<div><div id=cd7b885d-036d-446e-badb-440156ef70c5 style=\"display:none; background-color:#9D6CFF; color:white; width:200px; height:30px; padding-left:5px; border-radius:4px; flex-direction:row; justify-content:space-around; align-items:center;\" onmouseover=\"this.style.backgroundColor='#BA9BF8'\" onmouseout=\"this.style.backgroundColor='#9D6CFF'\" onclick=\"window.commands?.execute('create-mitosheet-from-dataframe-output');\">See Full Dataframe in Mito</div> <script> if (window.commands.hasCommand('create-mitosheet-from-dataframe-output')) document.getElementById('cd7b885d-036d-446e-badb-440156ef70c5').style.display = 'flex' </script> <table border=\"1\" class=\"dataframe\">\n",
       "  <thead>\n",
       "    <tr>\n",
       "      <th></th>\n",
       "      <th colspan=\"5\" halign=\"left\">price</th>\n",
       "    </tr>\n",
       "    <tr>\n",
       "      <th></th>\n",
       "      <th>max</th>\n",
       "      <th>min</th>\n",
       "      <th>mean</th>\n",
       "      <th>median</th>\n",
       "      <th>count</th>\n",
       "    </tr>\n",
       "    <tr>\n",
       "      <th>neighbourhood_group_cleansed</th>\n",
       "      <th></th>\n",
       "      <th></th>\n",
       "      <th></th>\n",
       "      <th></th>\n",
       "      <th></th>\n",
       "    </tr>\n",
       "  </thead>\n",
       "  <tbody>\n",
       "    <tr>\n",
       "      <th>Bronx</th>\n",
       "      <td>95110.0</td>\n",
       "      <td>0.0</td>\n",
       "      <td>180.816635</td>\n",
       "      <td>89.0</td>\n",
       "      <td>1587</td>\n",
       "    </tr>\n",
       "    <tr>\n",
       "      <th>Brooklyn</th>\n",
       "      <td>98159.0</td>\n",
       "      <td>0.0</td>\n",
       "      <td>171.926441</td>\n",
       "      <td>119.0</td>\n",
       "      <td>15688</td>\n",
       "    </tr>\n",
       "    <tr>\n",
       "      <th>Manhattan</th>\n",
       "      <td>19750.0</td>\n",
       "      <td>0.0</td>\n",
       "      <td>301.211665</td>\n",
       "      <td>175.0</td>\n",
       "      <td>17334</td>\n",
       "    </tr>\n",
       "    <tr>\n",
       "      <th>Queens</th>\n",
       "      <td>10000.0</td>\n",
       "      <td>10.0</td>\n",
       "      <td>135.656389</td>\n",
       "      <td>93.0</td>\n",
       "      <td>6519</td>\n",
       "    </tr>\n",
       "    <tr>\n",
       "      <th>Staten Island</th>\n",
       "      <td>65115.0</td>\n",
       "      <td>30.0</td>\n",
       "      <td>320.343210</td>\n",
       "      <td>100.0</td>\n",
       "      <td>405</td>\n",
       "    </tr>\n",
       "  </tbody>\n",
       "</table></div>"
      ],
      "text/plain": [
       "                                price                                \n",
       "                                  max   min        mean median  count\n",
       "neighbourhood_group_cleansed                                         \n",
       "Bronx                         95110.0   0.0  180.816635   89.0   1587\n",
       "Brooklyn                      98159.0   0.0  171.926441  119.0  15688\n",
       "Manhattan                     19750.0   0.0  301.211665  175.0  17334\n",
       "Queens                        10000.0  10.0  135.656389   93.0   6519\n",
       "Staten Island                 65115.0  30.0  320.343210  100.0    405"
      ]
     },
     "execution_count": 23,
     "metadata": {},
     "output_type": "execute_result"
    }
   ],
   "source": [
    "boroughs = df_listing.groupby('neighbourhood_group_cleansed').agg({'price':['max','min', 'mean', 'median', 'count']})\n",
    "boroughs"
   ]
  },
  {
   "cell_type": "markdown",
   "metadata": {},
   "source": [
    "**Find the most popular neighborhoods for AirBnb rentals in NYC and show how price vary between these neighborhoods**"
   ]
  },
  {
   "cell_type": "markdown",
   "metadata": {},
   "source": [
    "Now, we assume that there are five range of price to categorize the AirBnb in New York, including:\n",
    "\n",
    "1. Budget: $0 - 100\n",
    "\n",
    "2. Average: $101 - 200\n",
    "\n",
    "3. Expensive: $201 - 400\n",
    "\n",
    "4. Luxury: > $401 - 1000\n",
    "\n",
    "5. Presidential: > $1000\n",
    "\n",
    "Now, we analyze number of AirBnb in different boroughs"
   ]
  },
  {
   "cell_type": "code",
   "execution_count": 24,
   "metadata": {
    "execution": {
     "iopub.execute_input": "2023-03-23T20:51:05.892475Z",
     "iopub.status.busy": "2023-03-23T20:51:05.892150Z",
     "iopub.status.idle": "2023-03-23T20:51:05.912387Z",
     "shell.execute_reply": "2023-03-23T20:51:05.911088Z",
     "shell.execute_reply.started": "2023-03-23T20:51:05.892445Z"
    }
   },
   "outputs": [
    {
     "name": "stdout",
     "output_type": "stream",
     "text": [
      "ranges        neighbourhood_group_cleansed\n",
      "Budget        Bronx                            951\n",
      "              Brooklyn                        6915\n",
      "              Manhattan                       3868\n",
      "              Queens                          3696\n",
      "              Staten Island                    208\n",
      "Average       Bronx                            481\n",
      "              Brooklyn                        5487\n",
      "              Manhattan                       6311\n",
      "              Queens                          1933\n",
      "              Staten Island                    141\n",
      "Expensive     Bronx                            136\n",
      "              Brooklyn                        2599\n",
      "              Manhattan                       4525\n",
      "              Queens                           722\n",
      "              Staten Island                     39\n",
      "Luxury        Bronx                             14\n",
      "              Brooklyn                         588\n",
      "              Manhattan                       1952\n",
      "              Queens                           145\n",
      "              Staten Island                     12\n",
      "Presidential  Bronx                              4\n",
      "              Brooklyn                          95\n",
      "              Manhattan                        653\n",
      "              Queens                            23\n",
      "              Staten Island                      5\n",
      "Name: price, dtype: int64\n"
     ]
    }
   ],
   "source": [
    "#Create list of rank for AirBnb room\n",
    "rank_room = [\"Budget\", \"Average\", \"Expensive\", \"Luxury\", \"Presidential\"]\n",
    "\n",
    "#Create the range\n",
    "ranges = [0, 100, 200, 400, 1000, np.inf]\n",
    "\n",
    "#Input new column for price_range\n",
    "df_listing[\"ranges\"] = pd.cut(df_listing[\"price\"], bins=ranges, labels=rank_room)\n",
    "\n",
    "#Categorize room in different price ranges in boroughs of NY\n",
    "room_by_price_range = df_listing.groupby([\"ranges\", \"neighbourhood_group_cleansed\"])[\"price\"].count()\n",
    "print(room_by_price_range)"
   ]
  },
  {
   "cell_type": "code",
   "execution_count": 25,
   "metadata": {
    "execution": {
     "iopub.execute_input": "2023-03-23T20:51:05.914936Z",
     "iopub.status.busy": "2023-03-23T20:51:05.913853Z",
     "iopub.status.idle": "2023-03-23T20:51:06.432482Z",
     "shell.execute_reply": "2023-03-23T20:51:06.431134Z",
     "shell.execute_reply.started": "2023-03-23T20:51:05.914894Z"
    }
   },
   "outputs": [
    {
     "data": {
      "image/png": "[encoded data removed]",
      "text/plain": [
       "<Figure size 432x288 with 1 Axes>"
      ]
     },
     "metadata": {
      "needs_background": "light"
     },
     "output_type": "display_data"
    }
   ],
   "source": [
    "#Create plot for AirBnb room ranks\n",
    "\n",
    "room_by_price_range = room_by_price_range.reset_index()\n",
    "price_ranges = room_by_price_range['ranges'].unique()\n",
    "\n",
    "fig, ax = plt.subplots()\n",
    "for price_range in price_ranges:\n",
    "    filtered_df = room_by_price_range[room_by_price_range['ranges'] == price_range]\n",
    "    ax.bar(filtered_df['neighbourhood_group_cleansed'], filtered_df['price'], label=price_range)\n",
    "\n",
    "ax.set_xlabel('Neighbourhood group cleansed')\n",
    "ax.set_ylabel('Number of listings')\n",
    "ax.legend()\n",
    "ax.set_title('Number of listings in each neighbourhood group by price range')\n",
    "plt.show()\n"
   ]
  },
  {
   "cell_type": "code",
   "execution_count": 26,
   "metadata": {
    "execution": {
     "iopub.execute_input": "2023-03-23T20:51:06.435067Z",
     "iopub.status.busy": "2023-03-23T20:51:06.434158Z",
     "iopub.status.idle": "2023-03-23T20:51:06.500997Z",
     "shell.execute_reply": "2023-03-23T20:51:06.499654Z",
     "shell.execute_reply.started": "2023-03-23T20:51:06.435026Z"
    }
   },
   "outputs": [],
   "source": [
    "#clean the amenities column\n",
    "df_listing[\"amenities\"] = df_listing[\"amenities\"].str.replace(r'\\\\', '', regex=True)"
   ]
  },
  {
   "cell_type": "markdown",
   "metadata": {},
   "source": [
    "Most common amenities and features and their impacts on the price"
   ]
  },
  {
   "cell_type": "code",
   "execution_count": 27,
   "metadata": {
    "execution": {
     "iopub.execute_input": "2023-03-23T20:51:06.503425Z",
     "iopub.status.busy": "2023-03-23T20:51:06.503002Z",
     "iopub.status.idle": "2023-03-23T20:51:06.949338Z",
     "shell.execute_reply": "2023-03-23T20:51:06.947924Z",
     "shell.execute_reply.started": "2023-03-23T20:51:06.503387Z"
    }
   },
   "outputs": [],
   "source": [
    "#Count the frequencies of amenities\n",
    "from collections import Counter\n",
    "count_amen = Counter()\n",
    "for row in df_listing['amenities']:\n",
    "    count_amen.update(row[1:-1].replace(\"\\\"\", \"\").split(\", \"))"
   ]
  },
  {
   "cell_type": "code",
   "execution_count": 28,
   "metadata": {
    "execution": {
     "iopub.execute_input": "2023-03-23T20:51:06.951499Z",
     "iopub.status.busy": "2023-03-23T20:51:06.950982Z",
     "iopub.status.idle": "2023-03-23T20:51:06.959757Z",
     "shell.execute_reply": "2023-03-23T20:51:06.958371Z",
     "shell.execute_reply.started": "2023-03-23T20:51:06.951442Z"
    }
   },
   "outputs": [],
   "source": [
    "#Find top 10 most common amenities\n",
    "top10_amenities = [a for a, c in list(count_amen.items())[:10]]"
   ]
  },
  {
   "cell_type": "code",
   "execution_count": 29,
   "metadata": {
    "execution": {
     "iopub.execute_input": "2023-03-23T20:51:06.962144Z",
     "iopub.status.busy": "2023-03-23T20:51:06.961686Z",
     "iopub.status.idle": "2023-03-23T20:51:07.409491Z",
     "shell.execute_reply": "2023-03-23T20:51:07.408083Z",
     "shell.execute_reply.started": "2023-03-23T20:51:06.962108Z"
    }
   },
   "outputs": [
    {
     "data": {
      "text/plain": [
       "[('Self check-in', 264.29237288135596),\n",
       " ('Bed linens', 253.72628943415123),\n",
       " ('TV', 250.36045083902653),\n",
       " ('Bathtub', 248.16582484376337),\n",
       " ('Iron', 247.02498462484624),\n",
       " ('Carbon monoxide alarm', 234.72527300112966),\n",
       " ('Long term stays allowed', 217.65894075021313),\n",
       " ('Essentials', 211.40771694816542),\n",
       " ('Kitchen', 201.32095844212358),\n",
       " ('Stove', 200.55078705078705)]"
      ]
     },
     "execution_count": 29,
     "metadata": {},
     "output_type": "execute_result"
    }
   ],
   "source": [
    "#Find the mean price of houses which have one of top 10 most common amenities\n",
    "amen_vs_mean_price = []\n",
    "for amen in top10_amenities:\n",
    "    amen_vs_mean_price.append((\n",
    "        amen, \n",
    "        #df_listing.query(\"amenities.str.contains(@amen)\")[\"price\"].mean(skipna=True)\n",
    "        df_listing[df_listing['amenities'].str.contains(amen)]['price'].mean()\n",
    "    ))\n",
    "\n",
    "sorted_amen_vs_mean_price = sorted(amen_vs_mean_price, key=lambda x: x[1], reverse=True)\n",
    "sorted_amen_vs_mean_price"
   ]
  },
  {
   "cell_type": "code",
   "execution_count": 30,
   "metadata": {
    "execution": {
     "iopub.execute_input": "2023-03-23T20:51:07.411364Z",
     "iopub.status.busy": "2023-03-23T20:51:07.410989Z",
     "iopub.status.idle": "2023-03-23T20:51:07.666333Z",
     "shell.execute_reply": "2023-03-23T20:51:07.665003Z",
     "shell.execute_reply.started": "2023-03-23T20:51:07.411331Z"
    }
   },
   "outputs": [
    {
     "data": {
      "image/png": "[encoded data removed]",
      "text/plain": [
       "<Figure size 432x288 with 1 Axes>"
      ]
     },
     "metadata": {
      "needs_background": "light"
     },
     "output_type": "display_data"
    }
   ],
   "source": [
    "# plot for average price of houses which have one of top 10 most common amenities\n",
    "labels, values = zip(*sorted_amen_vs_mean_price)\n",
    "\n",
    "plt.bar(labels, values)\n",
    "plt.xlabel('Amenties')\n",
    "plt.ylabel('Avg. prices')\n",
    "plt.title('Top 10 most common amenties')\n",
    "plt.xticks(rotation=90)\n",
    "\n",
    "plt.show()"
   ]
  },
  {
   "cell_type": "markdown",
   "metadata": {},
   "source": [
    "**Model Fitting & Evaluation**\n",
    "\n",
    "    •Prepare machine learning data models such as \n",
    "    .Normalize numeric features\n",
    "    \n",
    "    .Convert the categorical variables into numeric features\n",
    "    \n",
    "    .Split the data into a training set and a test set.\n",
    "    \n",
    "    .Create models such as (Linear Regression, Random Forest and Gradient Boosting )\n",
    "    \n",
    "    .Evaluate the models’ performance and benchmark model accuracy.\n"
   ]
  },
  {
   "cell_type": "code",
   "execution_count": 31,
   "metadata": {
    "execution": {
     "iopub.execute_input": "2023-03-23T20:51:07.675074Z",
     "iopub.status.busy": "2023-03-23T20:51:07.674617Z",
     "iopub.status.idle": "2023-03-23T20:51:07.682997Z",
     "shell.execute_reply": "2023-03-23T20:51:07.681828Z",
     "shell.execute_reply.started": "2023-03-23T20:51:07.675031Z"
    }
   },
   "outputs": [
    {
     "data": {
      "text/plain": [
       "dtype('float64')"
      ]
     },
     "execution_count": 31,
     "metadata": {},
     "output_type": "execute_result"
    }
   ],
   "source": [
    "# check target variable datatype\n",
    "df_listing.price.dtypes"
   ]
  },
  {
   "cell_type": "code",
   "execution_count": 32,
   "metadata": {
    "execution": {
     "iopub.execute_input": "2023-03-23T20:51:07.684960Z",
     "iopub.status.busy": "2023-03-23T20:51:07.684541Z",
     "iopub.status.idle": "2023-03-23T20:51:07.694449Z",
     "shell.execute_reply": "2023-03-23T20:51:07.693497Z",
     "shell.execute_reply.started": "2023-03-23T20:51:07.684921Z"
    }
   },
   "outputs": [],
   "source": [
    "#create list for numerical and categorical variable\n",
    "numerical_vars = ['id', 'accommodates', 'bathrooms', 'bedrooms', 'beds', 'minimum_nights', 'maximum_nights', \n",
    "                  'availability_30', 'availability_60', 'availability_90', 'availability_365', 'number_of_reviews',\n",
    "                  'review_scores_rating', 'review_scores_accuracy', 'review_scores_cleanliness', 'review_scores_checkin',\n",
    "                  'review_scores_communication', 'review_scores_location','price', 'review_scores_value', 'reviews_per_month',\n",
    "                  'has_availability','instant_bookable','host_is_superhost']\n",
    "\n",
    "categorical_vars = ['name', 'host_neighbourhood','neighbourhood_group_cleansed', 'host_location', 'host_response_rate', \n",
    "                    'host_neighbourhood', 'property_type', 'room_type']"
   ]
  },
  {
   "cell_type": "code",
   "execution_count": 33,
   "metadata": {
    "execution": {
     "iopub.execute_input": "2023-03-23T20:51:07.696526Z",
     "iopub.status.busy": "2023-03-23T20:51:07.696015Z",
     "iopub.status.idle": "2023-03-23T20:51:07.735461Z",
     "shell.execute_reply": "2023-03-23T20:51:07.734246Z",
     "shell.execute_reply.started": "2023-03-23T20:51:07.696475Z"
    }
   },
   "outputs": [],
   "source": [
    "# drop zero variable numerical variables\n",
    "zero_variance_numerical_variables = [col for col in df_listing.columns if (df_listing[col].dtype in ['int64', 'float64'] and df_listing[col].std() == 0)]\n",
    "\n",
    "df_listing = df_listing.drop(zero_variance_numerical_variables, axis=1)\n"
   ]
  },
  {
   "cell_type": "code",
   "execution_count": 34,
   "metadata": {
    "execution": {
     "iopub.execute_input": "2023-03-23T20:51:07.738093Z",
     "iopub.status.busy": "2023-03-23T20:51:07.737371Z",
     "iopub.status.idle": "2023-03-23T20:51:07.863990Z",
     "shell.execute_reply": "2023-03-23T20:51:07.862607Z",
     "shell.execute_reply.started": "2023-03-23T20:51:07.738051Z"
    }
   },
   "outputs": [],
   "source": [
    "# drop zero variable categorical variables\n",
    "zero_variance_categorical_variables = []\n",
    "\n",
    "categorical_vars = list(df_listing.dtypes[df_listing.dtypes == object].index)\n",
    "\n",
    "for i in categorical_vars: \n",
    "    if len(df_listing[i].value_counts().index) ==1 :\n",
    "           zero_variance_categorical_variables.append(i)\n",
    "                   \n",
    "df_listing = df_listing.drop(zero_variance_categorical_variables, axis=1)"
   ]
  },
  {
   "cell_type": "code",
   "execution_count": 35,
   "metadata": {
    "execution": {
     "iopub.execute_input": "2023-03-23T20:51:07.868295Z",
     "iopub.status.busy": "2023-03-23T20:51:07.865482Z",
     "iopub.status.idle": "2023-03-23T20:51:07.963546Z",
     "shell.execute_reply": "2023-03-23T20:51:07.962372Z",
     "shell.execute_reply.started": "2023-03-23T20:51:07.868244Z"
    }
   },
   "outputs": [],
   "source": [
    "# drop high cardinality variables with high variance > 200 categorical variables \n",
    "high_cardinality_categorical_variables = [] \n",
    "\n",
    "categorical_vars = list(df_listing.dtypes[df_listing.dtypes == object].index)\n",
    "\n",
    "for i in categorical_vars: \n",
    "    if len(df_listing[i].value_counts().index) >200 :\n",
    "           high_cardinality_categorical_variables.append(i)\n",
    "\n",
    "df_listing = df_listing.drop(high_cardinality_categorical_variables, axis=1)"
   ]
  },
  {
   "cell_type": "code",
   "execution_count": 36,
   "metadata": {
    "execution": {
     "iopub.execute_input": "2023-03-23T20:51:07.965765Z",
     "iopub.status.busy": "2023-03-23T20:51:07.965383Z",
     "iopub.status.idle": "2023-03-23T20:51:08.112562Z",
     "shell.execute_reply": "2023-03-23T20:51:08.110886Z",
     "shell.execute_reply.started": "2023-03-23T20:51:07.965732Z"
    }
   },
   "outputs": [
    {
     "name": "stderr",
     "output_type": "stream",
     "text": [
      "C:\\Users\\Lenovo\\AppData\\Local\\Temp/ipykernel_6272/2106665024.py:2: FutureWarning: Dropping of nuisance columns in DataFrame reductions (with 'numeric_only=None') is deprecated; in a future version this will raise TypeError.  Select only valid columns before calling the reduction.\n",
      "  df_listing = df_listing.drop(df_listing.std()[df_listing.std() ==0].index, axis=1)\n",
      "C:\\ProgramData\\Anaconda3\\lib\\site-packages\\sklearn\\utils\\extmath.py:1047: RuntimeWarning: invalid value encountered in true_divide\n",
      "  updated_mean = (last_sum + new_sum) / updated_sample_count\n",
      "C:\\ProgramData\\Anaconda3\\lib\\site-packages\\sklearn\\utils\\extmath.py:1052: RuntimeWarning: invalid value encountered in true_divide\n",
      "  T = new_sum / new_sample_count\n",
      "C:\\ProgramData\\Anaconda3\\lib\\site-packages\\sklearn\\utils\\extmath.py:1072: RuntimeWarning: invalid value encountered in true_divide\n",
      "  new_unnormalized_variance -= correction**2 / new_sample_count\n"
     ]
    }
   ],
   "source": [
    "# standardize and scaling standardize numerical variables\n",
    "df_listing = df_listing.drop(df_listing.std()[df_listing.std() ==0].index, axis=1)\n",
    "\n",
    "# extract numerical val\n",
    "numeric_var = list(set(df_listing.columns) - set(df_listing.dtypes[df_listing.dtypes == object].index))\n",
    "\n",
    "# create col name for standardize val\n",
    "new_col = [i for i in numeric_var]\n",
    "\n",
    "df_listing[numeric_var] = df_listing[numeric_var].apply(pd.to_numeric, errors='coerce')\n",
    "\n",
    "# convert nurmic_var to numpy array\n",
    "array = df_listing[numeric_var].values\n",
    "\n",
    "\n",
    "data_scaler = StandardScaler().fit(array)\n",
    "\n",
    "df_listing[new_col] = pd.DataFrame(data_scaler.transform(array))\n",
    "\n"
   ]
  },
  {
   "cell_type": "code",
   "execution_count": 37,
   "metadata": {
    "execution": {
     "iopub.execute_input": "2023-03-23T20:51:08.114367Z",
     "iopub.status.busy": "2023-03-23T20:51:08.114022Z",
     "iopub.status.idle": "2023-03-23T20:51:08.275192Z",
     "shell.execute_reply": "2023-03-23T20:51:08.273992Z",
     "shell.execute_reply.started": "2023-03-23T20:51:08.114336Z"
    }
   },
   "outputs": [
    {
     "data": {
      "text/html": [
       "<div><div id=af1e15a3-1773-4d99-9982-4f0811299968 style=\"display:none; background-color:#9D6CFF; color:white; width:200px; height:30px; padding-left:5px; border-radius:4px; flex-direction:row; justify-content:space-around; align-items:center;\" onmouseover=\"this.style.backgroundColor='#BA9BF8'\" onmouseout=\"this.style.backgroundColor='#9D6CFF'\" onclick=\"window.commands?.execute('create-mitosheet-from-dataframe-output');\">See Full Dataframe in Mito</div> <script> if (window.commands.hasCommand('create-mitosheet-from-dataframe-output')) document.getElementById('af1e15a3-1773-4d99-9982-4f0811299968').style.display = 'flex' </script> <table border=\"1\" class=\"dataframe\">\n",
       "  <thead>\n",
       "    <tr style=\"text-align: right;\">\n",
       "      <th></th>\n",
       "      <th>id</th>\n",
       "      <th>host_is_superhost</th>\n",
       "      <th>latitude</th>\n",
       "      <th>longitude</th>\n",
       "      <th>accommodates</th>\n",
       "      <th>bedrooms</th>\n",
       "      <th>beds</th>\n",
       "      <th>price</th>\n",
       "      <th>minimum_nights</th>\n",
       "      <th>maximum_nights</th>\n",
       "      <th>...</th>\n",
       "      <th>host_response_rate_95%</th>\n",
       "      <th>host_response_rate_96%</th>\n",
       "      <th>host_response_rate_97%</th>\n",
       "      <th>host_response_rate_98%</th>\n",
       "      <th>host_response_rate_99%</th>\n",
       "      <th>host_response_rate_N/A</th>\n",
       "      <th>neighbourhood_group_cleansed_Brooklyn</th>\n",
       "      <th>neighbourhood_group_cleansed_Manhattan</th>\n",
       "      <th>neighbourhood_group_cleansed_Queens</th>\n",
       "      <th>neighbourhood_group_cleansed_Staten Island</th>\n",
       "    </tr>\n",
       "  </thead>\n",
       "  <tbody>\n",
       "    <tr>\n",
       "      <th>0</th>\n",
       "      <td>-0.581077</td>\n",
       "      <td>-0.521078</td>\n",
       "      <td>0.442181</td>\n",
       "      <td>-0.733761</td>\n",
       "      <td>-0.942108</td>\n",
       "      <td>-0.469629</td>\n",
       "      <td>-0.551786</td>\n",
       "      <td>-0.051092</td>\n",
       "      <td>0.371595</td>\n",
       "      <td>-0.004946</td>\n",
       "      <td>...</td>\n",
       "      <td>0</td>\n",
       "      <td>0</td>\n",
       "      <td>0</td>\n",
       "      <td>0</td>\n",
       "      <td>0</td>\n",
       "      <td>0</td>\n",
       "      <td>0</td>\n",
       "      <td>1</td>\n",
       "      <td>0</td>\n",
       "      <td>0</td>\n",
       "    </tr>\n",
       "    <tr>\n",
       "      <th>1</th>\n",
       "      <td>-0.581077</td>\n",
       "      <td>-0.521078</td>\n",
       "      <td>1.321352</td>\n",
       "      <td>-0.410696</td>\n",
       "      <td>-0.942108</td>\n",
       "      <td>-0.469629</td>\n",
       "      <td>-0.551786</td>\n",
       "      <td>-0.159847</td>\n",
       "      <td>-0.540471</td>\n",
       "      <td>-0.005051</td>\n",
       "      <td>...</td>\n",
       "      <td>0</td>\n",
       "      <td>0</td>\n",
       "      <td>0</td>\n",
       "      <td>0</td>\n",
       "      <td>0</td>\n",
       "      <td>1</td>\n",
       "      <td>0</td>\n",
       "      <td>1</td>\n",
       "      <td>0</td>\n",
       "      <td>0</td>\n",
       "    </tr>\n",
       "    <tr>\n",
       "      <th>2</th>\n",
       "      <td>-0.581077</td>\n",
       "      <td>-0.521078</td>\n",
       "      <td>-1.148690</td>\n",
       "      <td>-0.893684</td>\n",
       "      <td>0.501236</td>\n",
       "      <td>0.893124</td>\n",
       "      <td>0.320590</td>\n",
       "      <td>0.057664</td>\n",
       "      <td>0.078431</td>\n",
       "      <td>-0.004946</td>\n",
       "      <td>...</td>\n",
       "      <td>0</td>\n",
       "      <td>0</td>\n",
       "      <td>0</td>\n",
       "      <td>0</td>\n",
       "      <td>0</td>\n",
       "      <td>1</td>\n",
       "      <td>1</td>\n",
       "      <td>0</td>\n",
       "      <td>0</td>\n",
       "      <td>0</td>\n",
       "    </tr>\n",
       "    <tr>\n",
       "      <th>3</th>\n",
       "      <td>-0.581077</td>\n",
       "      <td>1.919099</td>\n",
       "      <td>-0.751453</td>\n",
       "      <td>-0.189304</td>\n",
       "      <td>-0.460994</td>\n",
       "      <td>-0.469629</td>\n",
       "      <td>-0.551786</td>\n",
       "      <td>-0.176161</td>\n",
       "      <td>0.371595</td>\n",
       "      <td>-0.004983</td>\n",
       "      <td>...</td>\n",
       "      <td>0</td>\n",
       "      <td>0</td>\n",
       "      <td>0</td>\n",
       "      <td>0</td>\n",
       "      <td>0</td>\n",
       "      <td>0</td>\n",
       "      <td>1</td>\n",
       "      <td>0</td>\n",
       "      <td>0</td>\n",
       "      <td>0</td>\n",
       "    </tr>\n",
       "    <tr>\n",
       "      <th>4</th>\n",
       "      <td>-0.581077</td>\n",
       "      <td>-0.521078</td>\n",
       "      <td>-0.331467</td>\n",
       "      <td>-0.158928</td>\n",
       "      <td>0.020121</td>\n",
       "      <td>-0.469629</td>\n",
       "      <td>-0.551786</td>\n",
       "      <td>-0.167460</td>\n",
       "      <td>0.371595</td>\n",
       "      <td>-0.004983</td>\n",
       "      <td>...</td>\n",
       "      <td>0</td>\n",
       "      <td>0</td>\n",
       "      <td>0</td>\n",
       "      <td>0</td>\n",
       "      <td>0</td>\n",
       "      <td>0</td>\n",
       "      <td>1</td>\n",
       "      <td>0</td>\n",
       "      <td>0</td>\n",
       "      <td>0</td>\n",
       "    </tr>\n",
       "  </tbody>\n",
       "</table></div>"
      ],
      "text/plain": [
       "         id  host_is_superhost  latitude  longitude  accommodates  bedrooms  \\\n",
       "0 -0.581077          -0.521078  0.442181  -0.733761     -0.942108 -0.469629   \n",
       "1 -0.581077          -0.521078  1.321352  -0.410696     -0.942108 -0.469629   \n",
       "2 -0.581077          -0.521078 -1.148690  -0.893684      0.501236  0.893124   \n",
       "3 -0.581077           1.919099 -0.751453  -0.189304     -0.460994 -0.469629   \n",
       "4 -0.581077          -0.521078 -0.331467  -0.158928      0.020121 -0.469629   \n",
       "\n",
       "       beds     price  minimum_nights  maximum_nights  ...  \\\n",
       "0 -0.551786 -0.051092        0.371595       -0.004946  ...   \n",
       "1 -0.551786 -0.159847       -0.540471       -0.005051  ...   \n",
       "2  0.320590  0.057664        0.078431       -0.004946  ...   \n",
       "3 -0.551786 -0.176161        0.371595       -0.004983  ...   \n",
       "4 -0.551786 -0.167460        0.371595       -0.004983  ...   \n",
       "\n",
       "   host_response_rate_95%  host_response_rate_96%  host_response_rate_97%  \\\n",
       "0                       0                       0                       0   \n",
       "1                       0                       0                       0   \n",
       "2                       0                       0                       0   \n",
       "3                       0                       0                       0   \n",
       "4                       0                       0                       0   \n",
       "\n",
       "   host_response_rate_98%  host_response_rate_99%  host_response_rate_N/A  \\\n",
       "0                       0                       0                       0   \n",
       "1                       0                       0                       1   \n",
       "2                       0                       0                       1   \n",
       "3                       0                       0                       0   \n",
       "4                       0                       0                       0   \n",
       "\n",
       "   neighbourhood_group_cleansed_Brooklyn  \\\n",
       "0                                      0   \n",
       "1                                      0   \n",
       "2                                      1   \n",
       "3                                      1   \n",
       "4                                      1   \n",
       "\n",
       "   neighbourhood_group_cleansed_Manhattan  \\\n",
       "0                                       1   \n",
       "1                                       1   \n",
       "2                                       0   \n",
       "3                                       0   \n",
       "4                                       0   \n",
       "\n",
       "   neighbourhood_group_cleansed_Queens  \\\n",
       "0                                    0   \n",
       "1                                    0   \n",
       "2                                    0   \n",
       "3                                    0   \n",
       "4                                    0   \n",
       "\n",
       "   neighbourhood_group_cleansed_Staten Island  \n",
       "0                                           0  \n",
       "1                                           0  \n",
       "2                                           0  \n",
       "3                                           0  \n",
       "4                                           0  \n",
       "\n",
       "[5 rows x 179 columns]"
      ]
     },
     "execution_count": 37,
     "metadata": {},
     "output_type": "execute_result"
    }
   ],
   "source": [
    "# encode categorical input variables\n",
    "categorical_var = list( set(df_listing.dtypes[df_listing.dtypes ==object].index) - set(['price']) )\n",
    "\n",
    "pd.get_dummies(df_listing[categorical_var], drop_first=True )\n",
    "\n",
    "dummy_cat_df =pd.get_dummies(df_listing[categorical_var], drop_first=True )\n",
    "\n",
    "df_listing = df_listing.drop(categorical_var, axis =1)\n",
    "\n",
    "df_listing = pd.concat([df_listing, dummy_cat_df], axis=1)\n",
    "\n",
    "df_listing.head()"
   ]
  },
  {
   "cell_type": "code",
   "execution_count": 38,
   "metadata": {
    "execution": {
     "iopub.execute_input": "2023-03-23T20:51:08.278028Z",
     "iopub.status.busy": "2023-03-23T20:51:08.277636Z",
     "iopub.status.idle": "2023-03-23T20:51:08.283976Z",
     "shell.execute_reply": "2023-03-23T20:51:08.282973Z",
     "shell.execute_reply.started": "2023-03-23T20:51:08.277996Z"
    }
   },
   "outputs": [
    {
     "name": "stdout",
     "output_type": "stream",
     "text": [
      "No of encoded columns:  179\n"
     ]
    }
   ],
   "source": [
    "print('No of encoded columns: ',len(df_listing.columns))"
   ]
  },
  {
   "cell_type": "code",
   "execution_count": 39,
   "metadata": {
    "execution": {
     "iopub.execute_input": "2023-03-23T20:51:08.285756Z",
     "iopub.status.busy": "2023-03-23T20:51:08.285410Z",
     "iopub.status.idle": "2023-03-23T20:51:08.319872Z",
     "shell.execute_reply": "2023-03-23T20:51:08.318677Z",
     "shell.execute_reply.started": "2023-03-23T20:51:08.285726Z"
    }
   },
   "outputs": [
    {
     "data": {
      "text/plain": [
       "0    0\n",
       "1    0\n",
       "2    0\n",
       "3    0\n",
       "4    0\n",
       "Name: price, dtype: int64"
      ]
     },
     "execution_count": 39,
     "metadata": {},
     "output_type": "execute_result"
    }
   ],
   "source": [
    "df_listing['price'] = df_listing['price'].apply(lambda x: 1 if x > 0.5 else 0)\n",
    "df_listing.price[:5]"
   ]
  },
  {
   "cell_type": "code",
   "execution_count": 40,
   "metadata": {
    "execution": {
     "iopub.execute_input": "2023-03-23T20:51:08.321981Z",
     "iopub.status.busy": "2023-03-23T20:51:08.321504Z",
     "iopub.status.idle": "2023-03-23T20:51:08.354416Z",
     "shell.execute_reply": "2023-03-23T20:51:08.353451Z",
     "shell.execute_reply.started": "2023-03-23T20:51:08.321945Z"
    }
   },
   "outputs": [
    {
     "name": "stdout",
     "output_type": "stream",
     "text": [
      "Data does not contain any missing values.\n"
     ]
    }
   ],
   "source": [
    "# final check before resmaple\n",
    "df_listing = df_listing.fillna(value=0)\n",
    "if df_listing.isnull().sum().sum() > 0:\n",
    "    print(\"Data contains missing values.\")\n",
    "else:\n",
    "    print(\"Data does not contain any missing values.\")\n"
   ]
  },
  {
   "cell_type": "code",
   "execution_count": 41,
   "metadata": {
    "execution": {
     "iopub.execute_input": "2023-03-23T20:51:08.356228Z",
     "iopub.status.busy": "2023-03-23T20:51:08.355586Z",
     "iopub.status.idle": "2023-03-23T20:51:08.984922Z",
     "shell.execute_reply": "2023-03-23T20:51:08.983606Z",
     "shell.execute_reply.started": "2023-03-23T20:51:08.356190Z"
    }
   },
   "outputs": [],
   "source": [
    "# Imbalanced variables to balanced it, using SMOTE resmaple function \n",
    "sm = SMOTE(random_state=0)\n",
    "input_var = list( set(df_listing.columns) - set(['price']) )\n",
    "\n",
    "X, Y = sm.fit_resample(df_listing[df_listing.columns.difference(['price'])], df_listing['price'] )\n",
    "X = pd.DataFrame(X, columns = input_var)\n",
    "y = pd.DataFrame(Y, columns = ['price'])\n",
    "\n",
    "df_listing = pd.concat([X, Y], axis=1)"
   ]
  },
  {
   "cell_type": "code",
   "execution_count": 42,
   "metadata": {
    "execution": {
     "iopub.execute_input": "2023-03-23T20:51:08.987138Z",
     "iopub.status.busy": "2023-03-23T20:51:08.986738Z",
     "iopub.status.idle": "2023-03-23T20:51:08.998357Z",
     "shell.execute_reply": "2023-03-23T20:51:08.997119Z",
     "shell.execute_reply.started": "2023-03-23T20:51:08.987105Z"
    }
   },
   "outputs": [
    {
     "data": {
      "text/plain": [
       "0    39903\n",
       "1    39903\n",
       "Name: price, dtype: int64"
      ]
     },
     "execution_count": 42,
     "metadata": {},
     "output_type": "execute_result"
    }
   ],
   "source": [
    "#validate balance data\n",
    "df_listing['price'].value_counts()"
   ]
  },
  {
   "cell_type": "code",
   "execution_count": 43,
   "metadata": {
    "execution": {
     "iopub.execute_input": "2023-03-23T20:51:09.000251Z",
     "iopub.status.busy": "2023-03-23T20:51:08.999910Z",
     "iopub.status.idle": "2023-03-23T20:51:09.108238Z",
     "shell.execute_reply": "2023-03-23T20:51:09.106736Z",
     "shell.execute_reply.started": "2023-03-23T20:51:09.000220Z"
    }
   },
   "outputs": [
    {
     "name": "stdout",
     "output_type": "stream",
     "text": [
      "70% Traing dataset:  55864\n",
      "30% Test dataset: 23942\n"
     ]
    }
   ],
   "source": [
    "# split the data into training and testing sets\n",
    "\n",
    "X_train, X_test, y_train, y_test = train_test_split(X, y, test_size=0.3, random_state=42)\n",
    "\n",
    "print('70% Traing dataset: ',X_train.shape[0])\n",
    "print('30% Test dataset:',X_test.shape[0])"
   ]
  },
  {
   "cell_type": "markdown",
   "metadata": {},
   "source": [
    "# **Create Prediction Models**"
   ]
  },
  {
   "cell_type": "markdown",
   "metadata": {},
   "source": [
    "***Linear Regression***, \n",
    "In our case of price prediction for an Airbnb listing, a linear regression model trained on a dataset that includes information about various properties of the listing (e.g., roomtype, bedrooms, bathroom, location, etc.The model would then use this training data to learn the relationship between the predictor variables and the target variable (price) and make predictions about the price of new, unseen listings.\n",
    "\n",
    "***Random Forest***\n",
    "A random forest model would be trained on a dataset that includes information about various properties of the listing. A model works by creating many decision trees and then combining their predictions. Each decision tree is created using a random subset of the data and a random subset of the features. This helps to reduce the correlation between the trees, which in turn helps to reduce overfitting. The final prediction is made by averaging the predictions of all the decision trees in the forest. This approach often leads to a more robust and accurate model than a single decision tree.\n",
    "\n",
    "**Gradient Boosting**\n",
    "The model works by iteratively adding decision trees to the model, where each tree is designed to correct the mistakes of the previous trees. it is able to handle high dimensional data and also can handle missing values and outliers. It also provides feature importance, which can be used to select the most important features for modeling. It is also able to handle different types of data, such as categorical and numerical. "
   ]
  },
  {
   "cell_type": "code",
   "execution_count": 44,
   "metadata": {
    "execution": {
     "iopub.execute_input": "2023-03-23T20:51:09.110347Z",
     "iopub.status.busy": "2023-03-23T20:51:09.109883Z",
     "iopub.status.idle": "2023-03-23T20:51:31.983357Z",
     "shell.execute_reply": "2023-03-23T20:51:31.982391Z",
     "shell.execute_reply.started": "2023-03-23T20:51:09.110309Z"
    }
   },
   "outputs": [],
   "source": [
    "# Create an XGBoost model\n",
    "random.seed(42)\n",
    "xgb_model = xgb.XGBRegressor()\n",
    "\n",
    "# Train the model on the training data\n",
    "xgb_model.fit(X_train, y_train.values.ravel())\n",
    "\n",
    "# Make predictions on the test data\n",
    "y_pred_xgb = xgb_model.predict(X_test).round()"
   ]
  },
  {
   "cell_type": "code",
   "execution_count": 45,
   "metadata": {
    "execution": {
     "iopub.execute_input": "2023-03-23T20:51:31.986109Z",
     "iopub.status.busy": "2023-03-23T20:51:31.985195Z",
     "iopub.status.idle": "2023-03-23T20:51:32.587824Z",
     "shell.execute_reply": "2023-03-23T20:51:32.585877Z",
     "shell.execute_reply.started": "2023-03-23T20:51:31.986049Z"
    }
   },
   "outputs": [],
   "source": [
    "# Create an LinearRegression model\n",
    "random.seed(42)\n",
    "lr_model = LinearRegression()\n",
    "lr_model.fit(X_train, y_train.values.ravel())\n",
    "\n",
    "# Make predictions on the test data\n",
    "y_pred_lr = lr_model.predict(X_test).round()"
   ]
  },
  {
   "cell_type": "code",
   "execution_count": 46,
   "metadata": {
    "execution": {
     "iopub.execute_input": "2023-03-23T20:51:32.601295Z",
     "iopub.status.busy": "2023-03-23T20:51:32.596196Z",
     "iopub.status.idle": "2023-03-23T20:53:35.580121Z",
     "shell.execute_reply": "2023-03-23T20:53:35.578713Z",
     "shell.execute_reply.started": "2023-03-23T20:51:32.601213Z"
    }
   },
   "outputs": [],
   "source": [
    "# Create a random forest model\n",
    "random.seed(42)\n",
    "rf_model = RandomForestRegressor(n_estimators=100)\n",
    "\n",
    "# Train the model on the training data\n",
    "rf_model.fit(X_train, y_train.values.ravel())\n",
    "\n",
    "# Make predictions on the test data\n",
    "y_pred_rf = rf_model.predict(X_test).round()"
   ]
  },
  {
   "cell_type": "markdown",
   "metadata": {},
   "source": [
    "# Feature importances indication"
   ]
  },
  {
   "cell_type": "code",
   "execution_count": 47,
   "metadata": {
    "execution": {
     "iopub.execute_input": "2023-03-23T20:53:35.583067Z",
     "iopub.status.busy": "2023-03-23T20:53:35.582233Z",
     "iopub.status.idle": "2023-03-23T20:53:35.606244Z",
     "shell.execute_reply": "2023-03-23T20:53:35.605122Z",
     "shell.execute_reply.started": "2023-03-23T20:53:35.583009Z"
    }
   },
   "outputs": [],
   "source": [
    "# get the feature importances\n",
    "importance = rf_model.feature_importances_\n",
    "cols =[]\n",
    "scores =[]\n",
    "# extract importances/significant feature score\n",
    "for i,v in enumerate(importance):\n",
    "    if v >= 0.01:\n",
    "        #print('Feature: %0d, Score: %.3f' % (i,v))\n",
    "        cols.append(i)\n",
    "        scores.append(v)"
   ]
  },
  {
   "cell_type": "code",
   "execution_count": 48,
   "metadata": {
    "execution": {
     "iopub.execute_input": "2023-03-23T20:53:35.607965Z",
     "iopub.status.busy": "2023-03-23T20:53:35.607610Z",
     "iopub.status.idle": "2023-03-23T20:53:35.614047Z",
     "shell.execute_reply": "2023-03-23T20:53:35.612768Z",
     "shell.execute_reply.started": "2023-03-23T20:53:35.607935Z"
    }
   },
   "outputs": [],
   "source": [
    "# extract importances/significant feature score\n",
    "feature_name =[]\n",
    "for i, v in enumerate(input_var):\n",
    "    #print(i,v)\n",
    "    if i in cols:\n",
    "        #print(i, v)\n",
    "        feature_name.append(v)"
   ]
  },
  {
   "cell_type": "code",
   "execution_count": 49,
   "metadata": {
    "execution": {
     "iopub.execute_input": "2023-03-23T20:53:35.616141Z",
     "iopub.status.busy": "2023-03-23T20:53:35.615446Z",
     "iopub.status.idle": "2023-03-23T20:53:35.937466Z",
     "shell.execute_reply": "2023-03-23T20:53:35.936095Z",
     "shell.execute_reply.started": "2023-03-23T20:53:35.616107Z"
    },
    "scrolled": true
   },
   "outputs": [
    {
     "data": {
      "image/png": "[encoded data removed]",
      "text/plain": [
       "<Figure size 720x360 with 1 Axes>"
      ]
     },
     "metadata": {
      "needs_background": "light"
     },
     "output_type": "display_data"
    }
   ],
   "source": [
    "# create a bar plot\n",
    "plt.figure(figsize=(10,5))\n",
    "sns.barplot(x=scores, y=feature_name)\n",
    "plt.xlabel('Feature Importance scores')\n",
    "plt.ylabel('Feature')\n",
    "plt.title('Feature Importance of Airbnb Listing Price Prediction')\n",
    "plt.show()"
   ]
  },
  {
   "cell_type": "markdown",
   "metadata": {},
   "source": [
    "**Reasons why they are impacting the Airbnb listing price prediction:**\n",
    "\n",
    "**minimum_nights**: Minimum nights required to book a stay at a listing may impact the price, as longer stays may be priced differently than shorter stays.\n",
    "\n",
    "**availability_30**: Number of days the listing is available in the next 30 days may impact the price, as listings with more availability may be priced differently than those with less availability.\n",
    "\n",
    "**number_of_reviews**: Number of reviews a listing has may impact the price, as listings with more reviews may be priced differently than those with fewer reviews.\n",
    "\n",
    "**accommodates**: Number of guests a listing can accommodate may impact the price, as listings that can accommodate more guests may be priced differently than those that can accommodate fewer guests.\n",
    "\n",
    "**host_response_rate_99%**: The host response rate may impact the price, as listings with higher host response rates may be priced differently than those with lower host response rates.\n",
    "\n",
    "**longitude and latitude**: The location of the listing may impact the price, as listings in certain areas may be priced differently than those in other areas.\n",
    "\n",
    "**property_type_Room in hotel and property_type_Private room in rental unit**: The type of property may impact the price, as different types of properties may be priced differently.\n",
    "\n",
    "**room_type_Private room**: The type of room may impact the price, as different types of rooms may be priced differently.\n",
    "\n",
    "**bedrooms**: Number of bedrooms may impact the price, as listings with more bedrooms may be priced differently than those with fewer bedrooms.\n",
    "\n",
    "**host_response_rate_N/A**: The host response rate may impact the price, as listings with higher host response rates may be priced differently than those with lower host response rates or no host response rate.\n",
    "\n",
    "**maximum_nights**: Maximum nights allowed to book a stay at a listing may impact the price, as longer stays may be priced differently than shorter stays."
   ]
  },
  {
   "cell_type": "markdown",
   "metadata": {},
   "source": [
    "# K-Mean Clustering for listing features "
   ]
  },
  {
   "cell_type": "code",
   "execution_count": 50,
   "metadata": {
    "execution": {
     "iopub.execute_input": "2023-03-23T20:53:35.939749Z",
     "iopub.status.busy": "2023-03-23T20:53:35.938831Z",
     "iopub.status.idle": "2023-03-23T20:53:37.617138Z",
     "shell.execute_reply": "2023-03-23T20:53:37.616082Z",
     "shell.execute_reply.started": "2023-03-23T20:53:35.939700Z"
    }
   },
   "outputs": [
    {
     "name": "stderr",
     "output_type": "stream",
     "text": [
      "C:\\ProgramData\\Anaconda3\\lib\\site-packages\\sklearn\\cluster\\_kmeans.py:870: FutureWarning: The default value of `n_init` will change from 10 to 'auto' in 1.4. Set the value of `n_init` explicitly to suppress the warning\n",
      "  warnings.warn(\n"
     ]
    }
   ],
   "source": [
    "# Extract the features use for clustering\n",
    "X_cluster = X_train[feature_name]\n",
    "\n",
    "# Create an instance of the KMeans model\n",
    "kmeans = KMeans(n_clusters=2)\n",
    "\n",
    "# Fit the model to your data\n",
    "kmeans.fit(X_cluster)\n",
    "\n",
    "# Predict the cluster labels for each data point\n",
    "labels = kmeans.predict(X_train[feature_name])\n"
   ]
  },
  {
   "cell_type": "code",
   "execution_count": 51,
   "metadata": {
    "execution": {
     "iopub.execute_input": "2023-03-23T20:53:37.619987Z",
     "iopub.status.busy": "2023-03-23T20:53:37.619189Z",
     "iopub.status.idle": "2023-03-23T20:53:37.643538Z",
     "shell.execute_reply": "2023-03-23T20:53:37.642545Z",
     "shell.execute_reply.started": "2023-03-23T20:53:37.619940Z"
    }
   },
   "outputs": [
    {
     "name": "stdout",
     "output_type": "stream",
     "text": [
      "2-means                                           1         2\n",
      "availability_365                           0.116410  0.559543\n",
      "minimum_nights                            -0.081860 -0.333411\n",
      "maximum_nights                            -0.005001 -0.005006\n",
      "reviews_per_month                         -0.054855 -0.133329\n",
      "property_type_Private room in rental unit  0.194099  0.003411\n",
      "number_of_reviews                         -0.075155 -0.213995\n",
      "property_type_Entire rental unit           0.324935  0.193376\n",
      "longitude                                 -0.246602 -0.429309\n",
      "property_type_Room in hotel                0.123872  0.214555\n",
      "beds                                      -0.129559  2.701904\n",
      "latitude                                   0.100989  0.057882\n",
      "accommodates                              -0.057907  3.283029\n",
      "bedrooms                                  -0.133051  2.750401\n",
      "availability_60                            0.124484  0.403728\n",
      "availability_90                            0.111295  0.423351\n"
     ]
    }
   ],
   "source": [
    "# Add the '2-means' cluster column to the data frame\n",
    "X_train.loc[:, '2-means'] = labels + 1\n",
    "mean_values = X_train.groupby('2-means')[feature_name].mean().T\n",
    "print(mean_values)\n"
   ]
  },
  {
   "cell_type": "code",
   "execution_count": 52,
   "metadata": {
    "execution": {
     "iopub.execute_input": "2023-03-23T20:53:37.645946Z",
     "iopub.status.busy": "2023-03-23T20:53:37.644997Z",
     "iopub.status.idle": "2023-03-23T20:53:37.652993Z",
     "shell.execute_reply": "2023-03-23T20:53:37.651530Z",
     "shell.execute_reply.started": "2023-03-23T20:53:37.645909Z"
    }
   },
   "outputs": [
    {
     "name": "stdout",
     "output_type": "stream",
     "text": [
      "Euclidean distance between the two clusters: 5.3\n"
     ]
    }
   ],
   "source": [
    "# Calculate the Euclidean distance between the two clusters\n",
    "euclidean_distance = distance.euclidean(mean_values[1], mean_values[2])\n",
    "\n",
    "print(\"Euclidean distance between the two clusters:\", round(euclidean_distance,2))"
   ]
  },
  {
   "cell_type": "markdown",
   "metadata": {},
   "source": [
    "The purpose of using K-Means cluster is by grouping similar listings together, it can help in identifying patterns and trends in the data.\n",
    "In our case, the data resulting the distance between two clusters is relatively large, indicated that two clusters are not very similar. The larger the distance, the more dissimilar "
   ]
  },
  {
   "cell_type": "markdown",
   "metadata": {},
   "source": [
    "# Confusion Matrix for model performance indicator"
   ]
  },
  {
   "cell_type": "code",
   "execution_count": 53,
   "metadata": {
    "execution": {
     "iopub.execute_input": "2023-03-23T20:53:37.657225Z",
     "iopub.status.busy": "2023-03-23T20:53:37.654640Z",
     "iopub.status.idle": "2023-03-23T20:53:37.665557Z",
     "shell.execute_reply": "2023-03-23T20:53:37.664349Z",
     "shell.execute_reply.started": "2023-03-23T20:53:37.657160Z"
    }
   },
   "outputs": [],
   "source": [
    "# compute confusion matrix and model performance indicator\n",
    "def get_performance(actual_Y, pred_Y):\n",
    "    cm = confusion_matrix(actual_Y, pred_Y)\n",
    "    total = sum(sum(cm))\n",
    "    accuracy = (cm[0,0] + cm[1,1] )/ total\n",
    "    sensitivity = cm[0,0] / ( cm[0,0] + cm[0,1] )\n",
    "    specificity = cm[1,1]/( cm[1,0] + cm[1,1] )\n",
    "    return accuracy, sensitivity, specificity"
   ]
  },
  {
   "cell_type": "code",
   "execution_count": 54,
   "metadata": {
    "execution": {
     "iopub.execute_input": "2023-03-23T20:53:37.668285Z",
     "iopub.status.busy": "2023-03-23T20:53:37.667071Z",
     "iopub.status.idle": "2023-03-23T20:53:37.700088Z",
     "shell.execute_reply": "2023-03-23T20:53:37.698759Z",
     "shell.execute_reply.started": "2023-03-23T20:53:37.668243Z"
    }
   },
   "outputs": [],
   "source": [
    "acc_xgb, sens_xgb, spec_xgb = get_performance(y_test, y_pred_xgb)\n",
    "\n",
    "threshold = 0.5\n",
    "y_pred_lr_binary = np.where(y_pred_lr > threshold, 1, 0)\n",
    "\n",
    "acc_lr, sens_lr, spec_lr = get_performance(y_test,  y_pred_lr_binary)\n",
    "\n",
    "acc_rf, sens_rf, spec_rf = get_performance(y_test, y_pred_rf)"
   ]
  },
  {
   "cell_type": "markdown",
   "metadata": {},
   "source": [
    "# Model Evaluation (Accuracy, Sensitivity, Specificity)"
   ]
  },
  {
   "cell_type": "code",
   "execution_count": 55,
   "metadata": {
    "execution": {
     "iopub.execute_input": "2023-03-23T20:53:37.701975Z",
     "iopub.status.busy": "2023-03-23T20:53:37.701562Z",
     "iopub.status.idle": "2023-03-23T20:53:37.720079Z",
     "shell.execute_reply": "2023-03-23T20:53:37.718558Z",
     "shell.execute_reply.started": "2023-03-23T20:53:37.701938Z"
    }
   },
   "outputs": [
    {
     "data": {
      "text/html": [
       "<div><div id=2b3efdb7-2507-4fef-9a43-629d0bf2313e style=\"display:none; background-color:#9D6CFF; color:white; width:200px; height:30px; padding-left:5px; border-radius:4px; flex-direction:row; justify-content:space-around; align-items:center;\" onmouseover=\"this.style.backgroundColor='#BA9BF8'\" onmouseout=\"this.style.backgroundColor='#9D6CFF'\" onclick=\"window.commands?.execute('create-mitosheet-from-dataframe-output');\">See Full Dataframe in Mito</div> <script> if (window.commands.hasCommand('create-mitosheet-from-dataframe-output')) document.getElementById('2b3efdb7-2507-4fef-9a43-629d0bf2313e').style.display = 'flex' </script> <table border=\"1\" class=\"dataframe\">\n",
       "  <thead>\n",
       "    <tr style=\"text-align: right;\">\n",
       "      <th></th>\n",
       "      <th>Accuracy</th>\n",
       "      <th>Sensitivity</th>\n",
       "      <th>Specificity</th>\n",
       "    </tr>\n",
       "  </thead>\n",
       "  <tbody>\n",
       "    <tr>\n",
       "      <th>Gradient Boosting</th>\n",
       "      <td>0.977738</td>\n",
       "      <td>0.982168</td>\n",
       "      <td>0.973325</td>\n",
       "    </tr>\n",
       "    <tr>\n",
       "      <th>Linear Regression</th>\n",
       "      <td>0.918303</td>\n",
       "      <td>0.958862</td>\n",
       "      <td>0.877156</td>\n",
       "    </tr>\n",
       "    <tr>\n",
       "      <th>Random Forest</th>\n",
       "      <td>0.985841</td>\n",
       "      <td>0.983827</td>\n",
       "      <td>0.987884</td>\n",
       "    </tr>\n",
       "  </tbody>\n",
       "</table></div>"
      ],
      "text/plain": [
       "                   Accuracy  Sensitivity  Specificity\n",
       "Gradient Boosting  0.977738     0.982168     0.973325\n",
       "Linear Regression  0.918303     0.958862     0.877156\n",
       "Random Forest      0.985841     0.983827     0.987884"
      ]
     },
     "execution_count": 55,
     "metadata": {},
     "output_type": "execute_result"
    }
   ],
   "source": [
    "# models performance evaluation\n",
    "perf_tbl = pd.DataFrame([acc_xgb ,acc_lr, acc_rf], columns = ['Accuracy'], \n",
    "                               index=['Gradient Boosting','Linear Regression','Random Forest'])\n",
    "\n",
    "perf_tbl['Sensitivity'] = np.asarray([sens_xgb, sens_lr, sens_rf])\n",
    "perf_tbl['Specificity'] = np.asarray([spec_xgb, spec_lr, spec_rf])\n",
    "\n",
    "perf_tbl.head(5)"
   ]
  },
  {
   "cell_type": "code",
   "execution_count": 56,
   "metadata": {
    "execution": {
     "iopub.execute_input": "2023-03-23T20:53:37.722297Z",
     "iopub.status.busy": "2023-03-23T20:53:37.721911Z",
     "iopub.status.idle": "2023-03-23T20:53:38.106497Z",
     "shell.execute_reply": "2023-03-23T20:53:38.104976Z",
     "shell.execute_reply.started": "2023-03-23T20:53:37.722263Z"
    }
   },
   "outputs": [
    {
     "data": {
      "image/png": "[encoded data removed]",
      "text/plain": [
       "<Figure size 1080x360 with 3 Axes>"
      ]
     },
     "metadata": {
      "needs_background": "light"
     },
     "output_type": "display_data"
    }
   ],
   "source": [
    "# create plot for performance evaluation\n",
    "fig, axs = plt.subplots(1, 3, figsize=(15,5))\n",
    "\n",
    "sns.barplot(x=perf_tbl.index, y='Accuracy', data=perf_tbl, ax=axs[0])\n",
    "axs[0].set_ylabel('Accuracy')\n",
    "axs[0].set_title('Models Accuracy')\n",
    "\n",
    "sns.barplot(x=perf_tbl.index, y='Sensitivity', data=perf_tbl, ax=axs[1])\n",
    "axs[1].set_ylabel('Sensitivity')\n",
    "axs[1].set_title('Models Sensitivity')\n",
    "\n",
    "sns.barplot(x=perf_tbl.index, y='Specificity', data=perf_tbl, ax=axs[2])\n",
    "axs[2].set_ylabel('Specificity')\n",
    "axs[2].set_title('Models Specificity')\n",
    "\n",
    "plt.tight_layout()\n",
    "plt.show()\n"
   ]
  },
  {
   "cell_type": "markdown",
   "metadata": {},
   "source": [
    "**All three model's accuracy, sensitivity and specificity **\n",
    "\n",
    "accuracy: a measure of how many predictions the model got correct. It's the ratio of correct predictions to total predictions.\n",
    "\n",
    "sensitivity: a measure of the proportion of true positive predictions (i.e., the number of correct positive (TP) predictions) out of all the actual positive cases.\n",
    "\n",
    "specificity: a measure of the proportion of true negative predictions (i.e., the number of correct negative predictions (FP) ) out of all the actual negative cases."
   ]
  },
  {
   "cell_type": "markdown",
   "metadata": {},
   "source": [
    "# Model summary\n",
    "\n",
    "* The Gradient Boosting model has the highest accuracy, sensitivity, and specificity. It means that the model is able to correctly predict the price of most of the listings in the dataset and it doesn't have a high rate of false positives or false negatives.\n",
    "\n",
    "* Linear Regression model has the lowest accuracy, sensitivity, and specificity among the three. It means that the model is not able to correctly predict the price of most of the listings in the dataset and it has a high rate of false positives or false negatives.\n",
    "\n",
    "* In our case, Random Forest model might be the best option as it has the highest accuracy, sensitivity, and specificity. However, this conclusion is based on the our features metric values."
   ]
  }
 ],
 "metadata": {
  "kernelspec": {
   "display_name": "Python 3 (ipykernel)",
   "language": "python",
   "name": "python3"
  },
  "language_info": {
   "codemirror_mode": {
    "name": "ipython",
    "version": 3
   },
   "file_extension": ".py",
   "mimetype": "text/x-python",
   "name": "python",
   "nbconvert_exporter": "python",
   "pygments_lexer": "ipython3",
   "version": "3.9.7"
  }
 },
 "nbformat": 4,
 "nbformat_minor": 4
}
